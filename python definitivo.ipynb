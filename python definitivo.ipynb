{
 "cells": [
  {
   "cell_type": "code",
   "execution_count": 13,
   "id": "92402f91",
   "metadata": {},
   "outputs": [
    {
     "name": "stdout",
     "output_type": "stream",
     "text": [
      "hello world\n"
     ]
    }
   ],
   "source": [
    "print(\"hello world\")"
   ]
  },
  {
   "cell_type": "code",
   "execution_count": 17,
   "id": "a4735c41",
   "metadata": {},
   "outputs": [
    {
     "name": "stdout",
     "output_type": "stream",
     "text": [
      "inserisci il tuo nome:UGA\n",
      "ciao, UGA !\n"
     ]
    }
   ],
   "source": [
    "nome=input(\"inserisci il tuo nome:\")\n",
    "print(\"ciao,\", nome, \"!\")"
   ]
  },
  {
   "cell_type": "code",
   "execution_count": 19,
   "id": "fbb1ebfd",
   "metadata": {},
   "outputs": [
    {
     "name": "stdout",
     "output_type": "stream",
     "text": [
      "quale nome è tuo il:UGA\n",
      "ciao, UGA !\n",
      "ciao, UGA !\n",
      "ciao, UGA !\n",
      "ciao, UGA !\n",
      "ciao, UGA !\n"
     ]
    }
   ],
   "source": [
    "nome=input(\"quale nome è tuo il:\")\n",
    "for i in range(5):\n",
    "    print(\"ciao,\", nome, \"!\")"
   ]
  },
  {
   "cell_type": "code",
   "execution_count": 20,
   "id": "1c5a913f",
   "metadata": {},
   "outputs": [
    {
     "name": "stdout",
     "output_type": "stream",
     "text": [
      "inserisci un numero: 10\n",
      "inserisci un numero: 10\n",
      "la somma è: 20\n"
     ]
    }
   ],
   "source": [
    "numero1=int(input(\"inserisci un numero: \"))\n",
    "numero2=int(input(\"inserisci un numero: \"))\n",
    "somma=numero1+numero2\n",
    "print(\"la somma è:\", somma)"
   ]
  },
  {
   "cell_type": "code",
   "execution_count": 24,
   "id": "a775670b",
   "metadata": {},
   "outputs": [
    {
     "name": "stdout",
     "output_type": "stream",
     "text": [
      "la sottrazione è: 0\n"
     ]
    }
   ],
   "source": [
    "sottrazione=numero1-numero2\n",
    "print(\"la sottrazione è:\", sottrazione)"
   ]
  },
  {
   "cell_type": "code",
   "execution_count": 25,
   "id": "f6ab6676",
   "metadata": {},
   "outputs": [
    {
     "name": "stdout",
     "output_type": "stream",
     "text": [
      "la moltiplicazione è: 100\n"
     ]
    }
   ],
   "source": [
    "moltiplicazione=numero1*numero2\n",
    "print(\"la moltiplicazione è:\", moltiplicazione)"
   ]
  },
  {
   "cell_type": "code",
   "execution_count": 26,
   "id": "a8d855a4",
   "metadata": {},
   "outputs": [
    {
     "name": "stdout",
     "output_type": "stream",
     "text": [
      "la divisione è: 1.0\n"
     ]
    }
   ],
   "source": [
    "divisione=numero1/numero2\n",
    "print(\"la divisione è:\", divisione)"
   ]
  },
  {
   "cell_type": "code",
   "execution_count": 8,
   "id": "aec43220",
   "metadata": {},
   "outputs": [
    {
     "name": "stdout",
     "output_type": "stream",
     "text": [
      "1\n",
      "2\n",
      "3\n",
      "4\n",
      "5\n",
      "6\n",
      "7\n",
      "8\n",
      "9\n",
      "10\n"
     ]
    }
   ],
   "source": [
    "for numero in range(1,11):\n",
    "    print(numero)"
   ]
  },
  {
   "cell_type": "code",
   "execution_count": 9,
   "id": "7d032275",
   "metadata": {},
   "outputs": [
    {
     "name": "stdout",
     "output_type": "stream",
     "text": [
      "1\n",
      "2\n",
      "3\n",
      "4\n",
      "5\n",
      "6\n",
      "7\n",
      "8\n",
      "9\n",
      "10\n"
     ]
    }
   ],
   "source": [
    "for numero in range(1,10+1):\n",
    "    print(numero)"
   ]
  },
  {
   "cell_type": "code",
   "execution_count": 10,
   "id": "9152ff86",
   "metadata": {},
   "outputs": [
    {
     "name": "stdout",
     "output_type": "stream",
     "text": [
      "inserisci l'operazione (+, -, *, /): /\n",
      "inserisci il primo numero: 10\n",
      "inserisci il secondo numero: 10\n",
      "il risultato è:  1.0\n"
     ]
    }
   ],
   "source": [
    "operazione=input(\"inserisci l'operazione (+, -, *, /): \")\n",
    "\n",
    "numero1=float(input(\"inserisci il primo numero: \"))\n",
    "numero2=float(input(\"inserisci il secondo numero: \"))\n",
    "\n",
    "if operazione == \"+\":\n",
    "    risultato = numero1+numero2\n",
    "elif operazione == \"-\":\n",
    "    risultato = numero1-numero2\n",
    "elif operazione == \"*\":\n",
    "    risultato = numero1*numero2\n",
    "elif operazione == \"/\":\n",
    "    risultato = numero1/numero2\n",
    "else:\n",
    "    risultato = \"operazione non valida\"\n",
    "    \n",
    "print(\"il risultato è: \", risultato)"
   ]
  },
  {
   "cell_type": "code",
   "execution_count": 14,
   "id": "014516d4",
   "metadata": {},
   "outputs": [
    {
     "name": "stdout",
     "output_type": "stream",
     "text": [
      "inserisci un numero intero positivo:10\n",
      "5\n",
      "6\n",
      "7\n",
      "8\n",
      "9\n",
      "10\n"
     ]
    }
   ],
   "source": [
    "n=int(input(\"inserisci un numero intero positivo:\"))\n",
    "\n",
    "for numero in range(5,n+1):\n",
    "    print(numero)"
   ]
  },
  {
   "cell_type": "code",
   "execution_count": 21,
   "id": "8225d75e",
   "metadata": {},
   "outputs": [
    {
     "name": "stdout",
     "output_type": "stream",
     "text": [
      "inserisci un numero intero positivo:5\n",
      "la somma dei primi 5 numeri interi è: 15\n"
     ]
    }
   ],
   "source": [
    "n=int(input(\"inserisci un numero intero positivo:\"))\n",
    "somma=0\n",
    "\n",
    "for numero in range(1,n+1):\n",
    "    #somma + numero=\n",
    "    somma += numero\n",
    "    #se in \"for numero in range\" ripeterà il comando su tutti i numeri\n",
    "print(\"la somma dei primi\", n, \"numeri interi è:\", somma)"
   ]
  },
  {
   "cell_type": "code",
   "execution_count": 22,
   "id": "8e79ce9f",
   "metadata": {},
   "outputs": [
    {
     "name": "stdout",
     "output_type": "stream",
     "text": [
      "inserisci un numero intero positivo: 2\n",
      "quadrati dei primi: 2 numeri:\n",
      "il quadrato di 1 è 1\n",
      "il quadrato di 2 è 4\n"
     ]
    }
   ],
   "source": [
    "n=int(input(\"inserisci un numero intero positivo: \"))\n",
    "\n",
    "print(\"quadrati dei primi:\", n, \"numeri:\")\n",
    "\n",
    "for numero in range(1,n+1):\n",
    "    quadrato=numero ** 2\n",
    "    print(\"il quadrato di\", numero, \"è\", quadrato)"
   ]
  },
  {
   "cell_type": "code",
   "execution_count": 9,
   "id": "c87d1d0f",
   "metadata": {},
   "outputs": [
    {
     "name": "stdout",
     "output_type": "stream",
     "text": [
      "inserisci un numero: 13\n",
      "13 è un numero pari.\n"
     ]
    }
   ],
   "source": [
    "numero=int(input(\"inserisci un numero: \"))\n",
    "\n",
    "if numero % 10 == 3:\n",
    "    #se \"\"% 10 == 3:\" sono pari solo i numeri che divisi per 10 danno come resto 3\"\n",
    "    print(numero, \"è un numero pari.\")\n",
    "else:\n",
    "    print(numero, \"è un numero dispari.\")"
   ]
  },
  {
   "cell_type": "code",
   "execution_count": 4,
   "id": "f33e5e37",
   "metadata": {},
   "outputs": [
    {
     "name": "stdout",
     "output_type": "stream",
     "text": [
      "Benvenuti al Gioco della Morra Cinese!\n",
      "Scegli la tua mossa (carta, forbici, sasso):forbici\n",
      "Il computer ha scelto: forbici\n",
      "Pareggio!\n"
     ]
    }
   ],
   "source": [
    "import random\n",
    "\n",
    "mosse = [\"carta\", \"forbici\", \"sasso\"]\n",
    "\n",
    "computer_mossa = random.choice(mosse)\n",
    "\n",
    "print(\"Benvenuti al Gioco della Morra Cinese!\")\n",
    "scelta_giocatore = input(\"Scegli la tua mossa (carta, forbici, sasso):\")\n",
    "\n",
    "if scelta_giocatore not in mosse:\n",
    "           print(\"mossa non permessa\")\n",
    "else:\n",
    "    print(\"Il computer ha scelto:\", computer_mossa)\n",
    "    if (scelta_giocatore == computer_mossa):\n",
    "        print(\"Pareggio!\")\n",
    "    elif (scelta_giocatore == \"carta\" and computer_mossa == \"sasso\") or \\\n",
    "         (scelta_giocatore == \"forbice\" and computer_mossa == \"carta\") or \\\n",
    "         (scelta_giocatore == \"sasso\" and computer_mossa == \"forbici\"): \n",
    "        print(\"Hai vinto!\")\n",
    "    else:\n",
    "        print(\"Hai perso!\")"
   ]
  },
  {
   "cell_type": "code",
   "execution_count": 5,
   "id": "07a4fea1",
   "metadata": {},
   "outputs": [
    {
     "name": "stdout",
     "output_type": "stream",
     "text": [
      "iserisci un numero intero positivo: 5\n",
      "il fattoriale di 5 è: 120\n"
     ]
    }
   ],
   "source": [
    "n=int(input(\"iserisci un numero intero positivo: \"))\n",
    "fattoriale=1\n",
    "\n",
    "for numero in range(1, n+1):\n",
    "    fattoriale*=numero\n",
    "print(\"il fattoriale di\", n, \"è:\", fattoriale)"
   ]
  },
  {
   "cell_type": "code",
   "execution_count": 6,
   "id": "54b3ce85",
   "metadata": {},
   "outputs": [
    {
     "name": "stdout",
     "output_type": "stream",
     "text": [
      "quanti numeri vuoi inserire? 5\n",
      "inserisci un numero: 5\n",
      "inserisci un numero: 4\n",
      "inserisci un numero: 44\n",
      "inserisci un numero: 1\n",
      "inserisci un numero: 5\n",
      "la media dei numeri inseriti è: 11.8 la lista completa è: [5.0, 4.0, 44.0, 1.0, 5.0]\n"
     ]
    }
   ],
   "source": [
    "numeri=[]\n",
    "\n",
    "n=int(input(\"quanti numeri vuoi inserire? \"))\n",
    "\n",
    "for i in range(n):\n",
    "    numero=float(input(\"inserisci un numero: \"))\n",
    "    numeri.append(numero)\n",
    "    \n",
    "media=sum(numeri)/len(numeri)\n",
    "\n",
    "print(\"la media dei numeri inseriti è:\", media, \"la lista completa è:\", numeri)"
   ]
  },
  {
   "cell_type": "code",
   "execution_count": 7,
   "id": "227176d8",
   "metadata": {},
   "outputs": [
    {
     "name": "stdout",
     "output_type": "stream",
     "text": [
      "indovina il numero (1-100): 90\n",
      "il numero da indovinare è più piccolo.\n",
      "indovina il numero (1-100): 70\n",
      "il numero da indovinare è più piccolo.\n",
      "indovina il numero (1-100): 40\n",
      "il numero da indovinare è più grande.\n",
      "indovina il numero (1-100): 60\n",
      "il numero da indovinare è più piccolo.\n",
      "indovina il numero (1-100): 55\n",
      "il numero da indovinare è più piccolo.\n",
      "indovina il numero (1-100): 50\n",
      "Bravo! Hai indovinato il numero 50 in 6 tentativi.\n"
     ]
    }
   ],
   "source": [
    "import random\n",
    "\n",
    "numero_da_indovinare=random.randint(1, 100)\n",
    "tentativi=0\n",
    "\n",
    "while True:\n",
    "    tentativo=int(input(\"indovina il numero (1-100): \"))\n",
    "    tentativi+=1\n",
    "    \n",
    "    if tentativo==numero_da_indovinare:\n",
    "        print(\"Bravo! Hai indovinato il numero\", numero_da_indovinare, \"in\", tentativi, \"tentativi.\")\n",
    "        break\n",
    "    elif tentativo<numero_da_indovinare:\n",
    "        print(\"il numero da indovinare è più grande.\")\n",
    "    else:\n",
    "        print(\"il numero da indovinare è più piccolo.\")"
   ]
  },
  {
   "cell_type": "code",
   "execution_count": 8,
   "id": "ea1dbe48",
   "metadata": {},
   "outputs": [
    {
     "name": "stdout",
     "output_type": "stream",
     "text": [
      "inserisci numero: 5\n",
      "il numero fattoriale di 5 è 120\n"
     ]
    }
   ],
   "source": [
    "n=int(input(\"inserisci numero: \"))\n",
    "\n",
    "fattoriale=1\n",
    "\n",
    "if n<0:\n",
    "    print(\"aspetta... solo numeri positivi\")\n",
    "elif n==0:\n",
    "    print(\"deve essere intero\")\n",
    "else:\n",
    "    for numero in range(1,1+n):\n",
    "        fattoriale*=numero\n",
    "print(f\"il numero fattoriale di {n} è {fattoriale}\")"
   ]
  },
  {
   "cell_type": "code",
   "execution_count": 11,
   "id": "e28b51aa",
   "metadata": {},
   "outputs": [
    {
     "name": "stdout",
     "output_type": "stream",
     "text": [
      "inserisci una frase: sono andato al parco\n",
      "nella frase 'sono andato al parco' ci sono 8 vocali\n"
     ]
    }
   ],
   "source": [
    "frase=input(\"inserisci una frase: \").lower()\n",
    "CV=0\n",
    "V=\"aeiou\"\n",
    "for carattere in frase:\n",
    "    if carattere in V:\n",
    "        CV+=1\n",
    "#la \"f\" prima delle \"\" serve a renderle più flessibili per inserire variabili come CV\n",
    "print(f\"nella frase '{frase}' ci sono {CV} vocali\")"
   ]
  },
  {
   "cell_type": "code",
   "execution_count": 14,
   "id": "323ee322",
   "metadata": {},
   "outputs": [
    {
     "name": "stdout",
     "output_type": "stream",
     "text": [
      "inserisci la popolazione iniziale: 10000\n",
      "inserisci numero di anni da simulare: 2\n",
      "inserisci il tasso di natalità: 100\n",
      "inserisci il tasso di mortalità: 50\n",
      "Anno 1: Popolazione= 15000\n",
      "Simulazione completata.\n",
      "Anno 2: Popolazione= 22500\n",
      "Simulazione completata.\n"
     ]
    }
   ],
   "source": [
    "popolazione=int(input(\"inserisci la popolazione iniziale: \"))\n",
    "anni=int(input(\"inserisci numero di anni da simulare: \"))\n",
    "tasso_natalità=float(input(\"inserisci il tasso di natalità: \"))\n",
    "tasso_mortalità=float(input(\"inserisci il tasso di mortalità: \"))\n",
    "\n",
    "for anno in range(anni):\n",
    "    nascite=(popolazione*tasso_natalità)/100\n",
    "    morti=(popolazione*tasso_mortalità)/100\n",
    "    popolazione+=(nascite-morti)\n",
    "    \n",
    "    print(f\"Anno {anno+1}: Popolazione= {int(popolazione)}\")\n",
    "\n",
    "    print(\"Simulazione completata.\")"
   ]
  },
  {
   "cell_type": "code",
   "execution_count": 15,
   "id": "b92531bd",
   "metadata": {},
   "outputs": [
    {
     "name": "stdout",
     "output_type": "stream",
     "text": [
      "oggi è il giorno: 14 / 11 / 2023 ore: 20 : 00 : 19\n"
     ]
    }
   ],
   "source": [
    "import datetime\n",
    "\n",
    "today=datetime.datetime.today()\n",
    "print(f\"oggi è il giorno: {today:%d / %m / %Y} ore: {today:%H : %M : %S}\")"
   ]
  },
  {
   "cell_type": "code",
   "execution_count": 7,
   "id": "3b5211d5",
   "metadata": {},
   "outputs": [
    {
     "name": "stdout",
     "output_type": "stream",
     "text": [
      "Benvenuto nel Convertitore di Unità di Misura! \n",
      "cosa vuoi convertire (metri/piedi, libbre/chilogrammi): metri\n",
      "inserisci il valore in metri: 100\n",
      "100.0 metri corrispondono a 328.084 piedi\n"
     ]
    }
   ],
   "source": [
    "print(\"Benvenuto nel Convertitore di Unità di Misura! \")\n",
    "\n",
    "\n",
    "\n",
    "scelta=input(\"cosa vuoi convertire (metri/piedi, libbre/chilogrammi): \")\n",
    "\n",
    "if scelta==\"metri\":\n",
    "    valore=float(input(\"inserisci il valore in metri: \"))\n",
    "    risultato=valore*3.28084\n",
    "    print(f\"{valore} metri corrispondono a {risultato} piedi\")\n",
    "    \n",
    "elif scelta==\"piedi\":\n",
    "    valore=float(input(\"inserisci il valore in piedi: \"))\n",
    "    risultato=valore/3.28084\n",
    "    print(f\"{valore} piedi corrispondono a {risultato} metri\")\n",
    "    \n",
    "elif scelta==\"chilogrammi\":\n",
    "    valore=float(input(\"inserisci il valore in chilogrammi: \"))\n",
    "    risultato=valore*2.20462\n",
    "    print(f\"{valore} chilogrammi corrispondono a {risultato} libbre\")\n",
    "\n",
    "elif scelta==\"libbre\":\n",
    "    valore=float(input(\"inserisci il valore in libbre: \"))\n",
    "    risultato=valore*2.20462\n",
    "    print(f\"{valore} libbre corrispondono a {risultato} chilogrammi\")\n",
    "\n",
    "else:\n",
    "    print(\"scelta non valida. scegli tra 'metri'/'piedi', 'chilogrammi'/'libbre'\")"
   ]
  },
  {
   "cell_type": "code",
   "execution_count": 10,
   "id": "a7d3b37b",
   "metadata": {},
   "outputs": [
    {
     "name": "stdout",
     "output_type": "stream",
     "text": [
      "inserisci un numero n per calcolare l'n-esimo di Fibonacci:10\n",
      "L'n-esimo numero di Fibonacci è: 34\n"
     ]
    }
   ],
   "source": [
    "#Chiedere all'utente di inserire un numero n\n",
    "n = int(input(\"inserisci un numero n per calcolare l'n-esimo di Fibonacci:\"))\n",
    "#Inizializzare le variabili per i primi due numeri di Fibonacci\n",
    "a=0\n",
    "b=1\n",
    "c=a+b\n",
    "\n",
    "#calcolare l'n-esimo numero di Fibonacci\n",
    "if n<= 0:\n",
    "    risultato = a\n",
    "else:\n",
    "    for iterazione in range(n-3):\n",
    "        a = b\n",
    "        b = c\n",
    "        c = a + b\n",
    "    risultato = c\n",
    "#stampare L'n-esimo numero di Fibonacci\n",
    "print(\"L'n-esimo numero di Fibonacci è:\", risultato)"
   ]
  },
  {
   "cell_type": "code",
   "execution_count": 11,
   "id": "e45f824c",
   "metadata": {},
   "outputs": [],
   "source": [
    "#def=definisci\n",
    "def fibonacci(n):\n",
    "    fib_series=[0,1]\n",
    "    \n",
    "    while len(fib_series)<n:\n",
    "        fib_series.append(fib_series[-1]+fib_series[-2])\n",
    "        \n",
    "    return fib_series"
   ]
  },
  {
   "cell_type": "code",
   "execution_count": 12,
   "id": "f2996b0d",
   "metadata": {},
   "outputs": [
    {
     "data": {
      "text/plain": [
       "[0, 1, 1, 2, 3, 5, 8, 13, 21, 34, 55, 89]"
      ]
     },
     "execution_count": 12,
     "metadata": {},
     "output_type": "execute_result"
    }
   ],
   "source": [
    "fibonacci(12)"
   ]
  },
  {
   "cell_type": "code",
   "execution_count": 14,
   "id": "0235883f",
   "metadata": {},
   "outputs": [
    {
     "name": "stdout",
     "output_type": "stream",
     "text": [
      "inserisci il numero di termini della serie di fibonacci da generare: 12\n",
      "[0, 1, 1, 2, 3, 5, 8, 13, 21, 34, 55, 89]\n"
     ]
    }
   ],
   "source": [
    "n=int(input(\"inserisci il numero di termini della serie di fibonacci da generare: \"))\n",
    "\n",
    "if n<=0:\n",
    "    print(\"inserisci un numero positivo.\")\n",
    "else:\n",
    "    result=fibonacci(n)#result=output(riceve input e output)\n",
    "    print(result)"
   ]
  },
  {
   "cell_type": "code",
   "execution_count": 23,
   "id": "3f10ead5",
   "metadata": {},
   "outputs": [],
   "source": [
    "import math\n",
    "\n",
    "def calcola_area_cerchio(raggio):\n",
    "    return math.pi*(raggio**2)\n",
    "\n",
    "def calcola_area_rettangolo(base, altezza):\n",
    "    return base*altezza\n",
    "\n",
    "def calcola_area_triangolo(base, altezza):\n",
    "    return (base*altezza)/2"
   ]
  },
  {
   "cell_type": "code",
   "execution_count": 24,
   "id": "190fcedb",
   "metadata": {},
   "outputs": [
    {
     "data": {
      "text/plain": [
       "314.1592653589793"
      ]
     },
     "execution_count": 24,
     "metadata": {},
     "output_type": "execute_result"
    }
   ],
   "source": [
    "calcola_area_cerchio(10)"
   ]
  },
  {
   "cell_type": "code",
   "execution_count": 25,
   "id": "1ecc0732",
   "metadata": {},
   "outputs": [
    {
     "name": "stdout",
     "output_type": "stream",
     "text": [
      "Bnevenuto nella Calcolatrice di Aree!\n",
      "Vuoi calcolare l'area di un cerchio (c), rettangolo (r) o triangolo (t)? t\n",
      "Inserisci il raggio del triangolo: 10\n",
      "Inserisci l'altezza del triangolo: 10\n",
      "L'area del triangolo è 50.00\n"
     ]
    }
   ],
   "source": [
    "print(\"Bnevenuto nella Calcolatrice di Aree!\")\n",
    "\n",
    "scelta = input(\"Vuoi calcolare l'area di un cerchio (c), rettangolo (r) o triangolo (t)? \").lower()\n",
    "\n",
    "if scelta == 'c':\n",
    "    raggio = float(input(\"Inserisci il raggio del cerchio: \"))\n",
    "    area = calcola_area_cerchio(raggio)\n",
    "    print(f\"L'area del cerchio è {area:.2f}\")\n",
    "elif scelta == 'r':\n",
    "    base = float(input(\"Inserisci il raggio del rettangolo: \"))\n",
    "    altezza = float(input(\"Inserisci l'altezza del rettangolo: \"))\n",
    "    area = calcola_area_rettangolo(base, altezza)\n",
    "    print(f\"L'area del rettangolo è {area:.2f}\")\n",
    "elif scelta == 't':\n",
    "    base = float(input(\"Inserisci il raggio del triangolo: \"))\n",
    "    altezza = float(input(\"Inserisci l'altezza del triangolo: \"))\n",
    "    area = calcola_area_triangolo(base, altezza)\n",
    "    print(f\"L'area del triangolo è {area:.2f}\")\n",
    "else:\n",
    "    print(\"Scelta non valida. Si prega di inserire 'c', 'r' o 't'.\")"
   ]
  },
  {
   "cell_type": "code",
   "execution_count": 26,
   "id": "1c0647d2",
   "metadata": {},
   "outputs": [],
   "source": [
    "def calcola_interessi(importo_iniziale, tasso_interesse, periodo_investimento):\n",
    "    importo_finale=importo_iniziale*(1+tasso_interesse/100)**periodo_investimento\n",
    "    return importo_finale"
   ]
  },
  {
   "cell_type": "code",
   "execution_count": 27,
   "id": "6232e355",
   "metadata": {},
   "outputs": [
    {
     "name": "stdout",
     "output_type": "stream",
     "text": [
      "benvenuto nel calcolatore di interessi! \n",
      "inserisci l'importo iniziale: 100\n",
      "inserisci il tasso di interesse annuale(%): 5\n",
      "inserisci il periodo di investimento (anni): 2\n",
      "l'importo finale è  110.25\n"
     ]
    }
   ],
   "source": [
    "print(\"benvenuto nel calcolatore di interessi! \")\n",
    "\n",
    "importo=float(input(\"inserisci l'importo iniziale: \"))\n",
    "tasso=float(input(\"inserisci il tasso di interesse annuale(%): \"))\n",
    "periodo=float(input(\"inserisci il periodo di investimento (anni): \"))\n",
    "\n",
    "importo_finale= calcola_interessi(importo, tasso, periodo)\n",
    "print(f\"l'importo finale è {importo_finale: .2f}\")"
   ]
  },
  {
   "cell_type": "code",
   "execution_count": 28,
   "id": "63a8cb6d",
   "metadata": {},
   "outputs": [],
   "source": [
    "def forza_gravitazionale(m1, m2, r):\n",
    "    # Costante gravitazionale\n",
    "    G=6.67430e-11 # N(m/kg)^2\n",
    "    \n",
    "    # Calcolo della forza gravitazionale\n",
    "    F=(G*m1*m2)/(r**2)\n",
    "    \n",
    "    return F"
   ]
  },
  {
   "cell_type": "code",
   "execution_count": 29,
   "id": "9dc0d66a",
   "metadata": {},
   "outputs": [
    {
     "name": "stdout",
     "output_type": "stream",
     "text": [
      "Forza Gravitazionale tra la Terra e la Luna: 1.9804922390990566e+20 Newton\n"
     ]
    }
   ],
   "source": [
    "#esempio di utilizzo\n",
    "Massa_Terra=5.972e24 #kg\n",
    "Massa_Luna=7.342e22\n",
    "Distanza_Terra_Luna=384400000\n",
    "\n",
    "forza=forza_gravitazionale(Massa_Terra, Massa_Luna, Distanza_Terra_Luna)\n",
    "print(f\"Forza Gravitazionale tra la Terra e la Luna: {forza} Newton\")"
   ]
  },
  {
   "cell_type": "code",
   "execution_count": 30,
   "id": "67962dc6",
   "metadata": {},
   "outputs": [],
   "source": [
    "from itertools import permutations\n",
    "k=0\n",
    "\n",
    "def trova_anagrammi(parola):\n",
    "    anagrammi=[\"\".join(p) for p in permutation(parola)]\n",
    "    return anagrammi"
   ]
  },
  {
   "cell_type": "code",
   "execution_count": 32,
   "id": "bcde6829",
   "metadata": {},
   "outputs": [
    {
     "name": "stdout",
     "output_type": "stream",
     "text": [
      "Benvenuto nel Risolutore di Anagrammi!\n",
      "Inserisci una parola: ciao\n",
      "ocai\n",
      "oiac\n",
      "iaco\n",
      "coia\n",
      "icao\n",
      "oaci\n",
      "acoi\n",
      "oaic\n",
      "ocia\n",
      "ioac\n",
      "caoi\n",
      "cioa\n",
      "caio\n",
      "ioca\n",
      "acio\n",
      "aico\n",
      "aioc\n",
      "oica\n",
      "icoa\n",
      "coai\n",
      "aoic\n",
      "iaoc\n",
      "aoci\n",
      "Gli anagrammi unici di 'ciao' sono in totale 23\n"
     ]
    }
   ],
   "source": [
    "from itertools import permutations\n",
    "\n",
    "def trova_anagrammi(parola):\n",
    "    return set([''.join(p) for p in permutations(parola)])\n",
    "\n",
    "print(\"Benvenuto nel Risolutore di Anagrammi!\")\n",
    "\n",
    "parola_input = input(\"Inserisci una parola: \").strip().lower()  # strip spazi bianchi lower in minuscolo\n",
    "\n",
    "if len(parola_input) < 2:\n",
    "    print(\"Inserisci una parola con almeno 2 caratteri.\")\n",
    "else:\n",
    "    anagrammi = trova_anagrammi(parola_input)\n",
    "    k = 0 \n",
    "\n",
    "    for elemento in anagrammi:\n",
    "        if elemento != parola_input:\n",
    "            k += 1\n",
    "            print(elemento)\n",
    "\n",
    "    print(f\"Gli anagrammi unici di '{parola_input}' sono in totale {k}\")"
   ]
  },
  {
   "cell_type": "code",
   "execution_count": 33,
   "id": "ca8d5ad8",
   "metadata": {},
   "outputs": [
    {
     "name": "stdout",
     "output_type": "stream",
     "text": [
      "inserisci l'importo da convertire: 100\n",
      "inserisci la valuta di partenza: euro\n",
      "inserisci la valuta di destinazione: yen\n",
      "100.0 euro sono equivalenti a  12989.41 yen\n"
     ]
    }
   ],
   "source": [
    "#definizione dei tassi di cambio\n",
    "\n",
    "tassi_di_cambio={\n",
    "    \"dollari\": 1.0,\n",
    "    \"euro\": 0.85,\n",
    "    \"yen\": 110.41,\n",
    "    #aggiungi altre valute e tassi di cambio se necessario\n",
    "}\n",
    "\n",
    "#chiedi all'utente di inserire l'importo, la valuta di partenza e la valuta di destinazione\n",
    "importo=float(input(\"inserisci l'importo da convertire: \"))\n",
    "valuta_di_partenza=input(\"inserisci la valuta di partenza: \").lower()\n",
    "valuta_di_destinazione=input(\"inserisci la valuta di destinazione: \").lower()\n",
    "\n",
    "#verifica se le valute sono nel dizionario dei tassi di cambio\n",
    "if valuta_di_partenza in tassi_di_cambio and valuta_di_destinazione in tassi_di_cambio:\n",
    "    #calcola il tasso di cambio e l'importo invertito\n",
    "    tasso_di_cambio=tassi_di_cambio[valuta_di_destinazione]/tassi_di_cambio[valuta_di_partenza]\n",
    "    importo_convertito=importo*tasso_di_cambio\n",
    "    \n",
    "    #stampa il risultato\n",
    "    print(f\"{importo} {valuta_di_partenza} sono equivalenti a {importo_convertito: .2f} {valuta_di_destinazione}\")\n",
    "else:\n",
    "    print(\"valute non supportate. assicurati di inserire valute valide.\")"
   ]
  },
  {
   "cell_type": "code",
   "execution_count": 34,
   "id": "cac0ef36",
   "metadata": {},
   "outputs": [
    {
     "name": "stdout",
     "output_type": "stream",
     "text": [
      "inserisci una frase: ciao sono uga\n"
     ]
    }
   ],
   "source": [
    "frase=input(\"inserisci una frase: \")\n",
    "\n",
    "frase=frase.lower()\n",
    "\n",
    "alfabeto= 'abcdefghijklmnopqrstuvwxyz'\n",
    "\n",
    "conteggio_lettere={}\n",
    "\n",
    "for lettera in alfabeto:\n",
    "    conteggio=frase.count(lettera)\n",
    "    \n",
    "if conteggio>0:\n",
    "    conteggio_lettere[lettera]=conteggio"
   ]
  },
  {
   "cell_type": "code",
   "execution_count": 2,
   "id": "298e11e6",
   "metadata": {},
   "outputs": [
    {
     "name": "stdout",
     "output_type": "stream",
     "text": [
      "\n",
      "Menù:\n",
      "\n",
      " 1. Aggiungi cibo consumato\n",
      "\n",
      " 2. Calcola calorie totali\n",
      "\n",
      " 3. Esci\n",
      "\n",
      "Scegli un'opzione: 1\n",
      "\n",
      "\n",
      "pizza 285\n",
      "hamburger 250\n",
      "insalata 100\n",
      "pollo arrosto 335\n",
      "yogurt 150\n",
      "\n",
      "Inserisci il cibo consumato: pizza\n",
      "\n",
      "Inserisci la quantità (in grammi): 100\n",
      "\n",
      "Menù:\n",
      "\n",
      " 1. Aggiungi cibo consumato\n",
      "\n",
      " 2. Calcola calorie totali\n",
      "\n",
      " 3. Esci\n",
      "\n",
      "Scegli un'opzione: 1\n",
      "\n",
      "\n",
      "pizza 285\n",
      "hamburger 250\n",
      "insalata 100\n",
      "pollo arrosto 335\n",
      "yogurt 150\n",
      "\n",
      "Inserisci il cibo consumato: insalata\n",
      "\n",
      "Inserisci la quantità (in grammi): 100\n",
      "\n",
      "Menù:\n",
      "\n",
      " 1. Aggiungi cibo consumato\n",
      "\n",
      " 2. Calcola calorie totali\n",
      "\n",
      " 3. Esci\n",
      "\n",
      "Scegli un'opzione: 2\n",
      "\n",
      "Calorie totali consumate: 385.0 calorie\n",
      "\n",
      "Menù:\n",
      "\n",
      " 1. Aggiungi cibo consumato\n",
      "\n",
      " 2. Calcola calorie totali\n",
      "\n",
      " 3. Esci\n",
      "\n",
      "Scegli un'opzione: 3\n"
     ]
    }
   ],
   "source": [
    "# Dizionario per il cibo e le calorie per 100 grammi\n",
    "cibo_calorie = {\n",
    "    \"pizza\": 285, \n",
    "    \"hamburger\": 250,\n",
    "    \"insalata\": 100,\n",
    "    \"pollo arrosto\": 335,\n",
    "    \"yogurt\": 150\n",
    "}\n",
    "\n",
    "# Funzione per calcolare le calorie consumate\n",
    "def calorie_consumate(cibo, quantità):\n",
    "    if cibo not in cibo_calorie.keys():\n",
    "        print(\"cibo calorie\")\n",
    "    elif cibo in cibo_calorie.keys():\n",
    "        calorie_per_100g = cibo_calorie[cibo]\n",
    "        calorie_totali = (calorie_per_100g / 100) * quantità\n",
    "        return calorie_totali\n",
    "    \n",
    "# Funzione principale\n",
    "def main ():\n",
    "    cibo_consumato = []\n",
    "    \n",
    "    while True:\n",
    "        print(\"\\nMenù:\")\n",
    "        print(\"\\n 1. Aggiungi cibo consumato\")\n",
    "        print(\"\\n 2. Calcola calorie totali\")\n",
    "        print(\"\\n 3. Esci\")\n",
    "        \n",
    "        scelta = input(\"\\nScegli un'opzione: \")\n",
    "        \n",
    "        if scelta == \"1\":\n",
    "            print(\"\\n\")\n",
    "            \n",
    "            for key, value in cibo_calorie.items():\n",
    "                print (key, value)\n",
    "                \n",
    "            cibo = input(\"\\nInserisci il cibo consumato: \").lower()\n",
    "            quantità = float(input(\"\\nInserisci la quantità (in grammi): \"))\n",
    "            cibo_consumato.append((cibo, quantità))\n",
    "            \n",
    "        elif scelta == \"2\":\n",
    "            calorie_totali = sum(calorie_consumate(c, q) for c, q in cibo_consumato)\n",
    "            print(f\"\\nCalorie totali consumate: {calorie_totali} calorie\")\n",
    "        elif scelta == \"3\":\n",
    "            break\n",
    "        else:\n",
    "            print(\"\\nScelta con valida. Riprova. \\n\")\n",
    "            \n",
    "if __name__==\"__main__\":\n",
    "    main()"
   ]
  },
  {
   "cell_type": "code",
   "execution_count": 1,
   "id": "431d8017",
   "metadata": {},
   "outputs": [
    {
     "name": "stdout",
     "output_type": "stream",
     "text": [
      "scegli un numero da 1 a 8: 1\n",
      "il computer ha scelto 4\n",
      "il proiettile era nel 2 slot\n",
      "siete sopravvisuti entrambi\n",
      "per continuare a giocare premi 1: 1\n",
      "scegli un numero da 1 a 8: 1\n",
      "il computer ha scelto 6\n",
      "il proiettile è nel 6 slot\n",
      "hai vinto\n"
     ]
    }
   ],
   "source": [
    "import random\n",
    "\n",
    "P=random.randint(1, 8)\n",
    "\n",
    "scelta_del_giocatore=int(input(\"scegli un numero da 1 a 8: \"))\n",
    "scelta_del_computer=random.randint(1, 8)\n",
    "while True:\n",
    "    if scelta_del_giocatore<1 or scelta_del_giocatore >8:\n",
    "        print(\"scelta errata\")\n",
    "        break\n",
    "    elif scelta_del_computer==scelta_del_giocatore:\n",
    "        scelta_del_computer=random.randint(1,8)\n",
    "    elif scelta_del_giocatore==P:\n",
    "        print(\"Bang! sei morto\")\n",
    "        break\n",
    "    elif scelta_del_computer==P:\n",
    "        print(\"il computer ha scelto\",scelta_del_computer)\n",
    "        print(\"il proiettile è nel\",P,\"slot\")\n",
    "        print(\"hai vinto\")\n",
    "        break\n",
    "    else:\n",
    "        print(\"il computer ha scelto\",scelta_del_computer)\n",
    "        print(\"il proiettile era nel\",P,\"slot\")\n",
    "        print(\"siete sopravvisuti entrambi\")\n",
    "        continuare=input(\"per continuare a giocare premi 1: \")\n",
    "        if continuare==\"1\":\n",
    "            P=random.randint(1, 8)\n",
    "            scelta_del_giocatore=int(input(\"scegli un numero da 1 a 8: \"))\n",
    "            scelta_del_computer=P=random.randint(1, 8)\n",
    "            if scelta_del_giocatore<1 or scelta_del_giocatore>8:\n",
    "                print(\"scelta errata\")\n",
    "                break\n",
    "        else:\n",
    "            break"
   ]
  },
  {
   "cell_type": "code",
   "execution_count": 8,
   "id": "64514615",
   "metadata": {},
   "outputs": [
    {
     "name": "stdout",
     "output_type": "stream",
     "text": [
      "la sua specie è Elfo, è un cavaliere, la sua arma è la pistola, le sue abilità sono: ['supervisione', 'invisibilità']\n"
     ]
    }
   ],
   "source": [
    "import random\n",
    "\n",
    "# Liste di speci, classi, armi e abilità\n",
    "speci = [\"Umano\", \"Orco\", \"Elfo\", \"Drago\"]\n",
    "classi = [\"guerriero\", \"cavaliere\", \"ranger\", \"chierico\"]\n",
    "armi = [\"spada\" , \"pistola\", \"bacchetta\"]\n",
    "abilità = [\"supervisione\", \"invisibilità\", \"camuffamento\", \"estrazione mineraria\", \"incantesimo\"]\n",
    "\n",
    "# Genera un personaggio casuale\n",
    "specie = random.choice(speci)\n",
    "classe = random.choice(classi)\n",
    "arma = random.choice(armi)\n",
    "abilità_scelte = random.sample(abilità, random.randint(1, 3))\n",
    "\n",
    "# Stampa il personaggio\n",
    "print(f\"la sua specie è {specie}, è un {classe}, la sua arma è la {arma}, le sue abilità sono: {abilità_scelte}\")"
   ]
  },
  {
   "cell_type": "code",
   "execution_count": 2,
   "id": "9adc069a",
   "metadata": {},
   "outputs": [
    {
     "name": "stdout",
     "output_type": "stream",
     "text": [
      "cosa devi calcolare? (f, a, m): am\n",
      "cosa devi calcolare? (f, a, m): f\n",
      "l'accellerazione è: 10\n",
      "la massa è: 10\n",
      "100.0 N\n"
     ]
    }
   ],
   "source": [
    "operazione=input(\"cosa devi calcolare? (f, a, m): \")\n",
    "while operazione!=\"f\"and operazione!=\"a\"and operazione!=\"m\":\n",
    "    operazione=input(\"cosa devi calcolare? (f, a, m): \")\n",
    "\n",
    "if operazione == \"f\":\n",
    "    a=float(input(\"l'accellerazione è: \"))\n",
    "    m=float(input(\"la massa è: \"))\n",
    "    print (a*m, \"N\")\n",
    "elif operazione == \"a\":\n",
    "    f=float(input(\"la forza è: \"))\n",
    "    m=float(input(\"la massa è: \"))\n",
    "    print (f/m, \"m/s2\")\n",
    "elif operazione == \"m\":\n",
    "    f=float(input(\"la forza è: \"))\n",
    "    a=float(input(\"l'accellerazione è: \"))\n",
    "    print (f/a, \"kg\")"
   ]
  },
  {
   "cell_type": "code",
   "execution_count": 3,
   "id": "2284cdff",
   "metadata": {},
   "outputs": [
    {
     "name": "stdout",
     "output_type": "stream",
     "text": [
      " _   _          _      _\n",
      "| | | |_ __  __| |__ _| |_ ___\n",
      "| |_| | '_ \\/ _' / _' |  _/ -_)\n",
      " \\___/| .__/\\__,_\\__,_|\\__\\___|\n",
      "      |_|\n"
     ]
    }
   ],
   "source": [
    "print(\" _   _          _      _\")\n",
    "print(\"| | | |_ __  __| |__ _| |_ ___\")\n",
    "print(\"| |_| | '_ \\/ _' / _' |  _/ -_)\")\n",
    "print(\" \\___/| .__/\\__,_\\__,_|\\__\\___|\")\n",
    "print(\"      |_|\")"
   ]
  },
  {
   "cell_type": "code",
   "execution_count": 4,
   "id": "ca1e668e",
   "metadata": {},
   "outputs": [
    {
     "name": "stdout",
     "output_type": "stream",
     "text": [
      "carta forbice sasso! sasso\n",
      "io ho scelto carta\n",
      "ha ha sapevo che avresti perso\n"
     ]
    }
   ],
   "source": [
    "import random\n",
    "c_f_s=[\"carta\", \"forbice\", \"sasso\"]\n",
    "scelta_computer=random.choice(c_f_s)\n",
    "\n",
    "scelta_del_giocatore=input(\"carta forbice sasso! \")\n",
    "while scelta_del_giocatore!=\"carta\" and scelta_del_giocatore!=\"forbice\" and scelta_del_giocatore!=\"sasso\":\n",
    "    print(\"stiamo giocando a carta forbice sasso non a\", scelta_del_giocatore, \"cartagine carbonara\")\n",
    "    scelta_del_giocatore=input(\"carta forbice sasso! \")\n",
    "\n",
    "print(\"io ho scelto\", scelta_computer)\n",
    "\n",
    "if scelta_computer==\"carta\" and scelta_del_giocatore==\"forbice\":\n",
    "    print(\"hai vinto questa volta ma non vincerai di nuovo\")\n",
    "elif scelta_computer==\"forbice\" and scelta_del_giocatore==\"carta\":\n",
    "    print(\"ha ha sapevo che avresti perso\")\n",
    "elif scelta_computer==\"forbice\" and scelta_del_giocatore==\"sasso\":\n",
    "    print(\"hai vinto questa volta ma non vincerai di nuovo\")\n",
    "elif scelta_computer==\"sasso\" and scelta_del_giocatore==\"forbice\":\n",
    "    print(\"ha ha sapevo che avresti perso\")\n",
    "elif scelta_computer==\"sasso\" and scelta_del_giocatore==\"carta\":\n",
    "    print(\"hai vinto questa volta ma non vincerai di nuovo\")\n",
    "elif scelta_computer==\"carta\" and scelta_del_giocatore==\"sasso\":\n",
    "    print(\"ha ha sapevo che avresti perso\")\n",
    "else:\n",
    "    print(\"è stato un pareggio che non si ripeterà più poiche io sono migliore di te\")"
   ]
  },
  {
   "cell_type": "code",
   "execution_count": 6,
   "id": "72c539f4",
   "metadata": {},
   "outputs": [
    {
     "name": "stdout",
     "output_type": "stream",
     "text": [
      "1 elefante\n",
      "si dondolava\n",
      "sopra il filo di una ragnatela\n",
      "trovando la cosa molto interessante\n",
      "andò a chiamare un altro elefante\n",
      "2 elefanti\n",
      "si dondolavano\n",
      "sopra il filo di una ragnatela\n",
      "trovando la cosa molto interessante\n",
      "andarono a chiamare un altro elefante\n",
      "3 elefanti\n",
      "si dondolavano\n",
      "sopra il filo di una ragnatela\n",
      "trovando la cosa molto interessante\n",
      "andarono a chiamare un altro elefante\n",
      "4 elefanti\n"
     ]
    },
    {
     "ename": "KeyboardInterrupt",
     "evalue": "",
     "output_type": "error",
     "traceback": [
      "\u001b[1;31m---------------------------------------------------------------------------\u001b[0m",
      "\u001b[1;31mKeyboardInterrupt\u001b[0m                         Traceback (most recent call last)",
      "Cell \u001b[1;32mIn[6], line 16\u001b[0m\n\u001b[0;32m     14\u001b[0m time\u001b[38;5;241m.\u001b[39msleep(\u001b[38;5;241m3.5\u001b[39m)\n\u001b[0;32m     15\u001b[0m \u001b[38;5;28mprint\u001b[39m(elefanti,\u001b[38;5;124m\"\u001b[39m\u001b[38;5;124melefanti\u001b[39m\u001b[38;5;124m\"\u001b[39m)\n\u001b[1;32m---> 16\u001b[0m time\u001b[38;5;241m.\u001b[39msleep(\u001b[38;5;241m2\u001b[39m)\n\u001b[0;32m     17\u001b[0m \u001b[38;5;28mprint\u001b[39m(\u001b[38;5;124m\"\u001b[39m\u001b[38;5;124msi dondolavano\u001b[39m\u001b[38;5;124m\"\u001b[39m)\n\u001b[0;32m     18\u001b[0m time\u001b[38;5;241m.\u001b[39msleep(\u001b[38;5;241m1.8\u001b[39m)\n",
      "\u001b[1;31mKeyboardInterrupt\u001b[0m: "
     ]
    }
   ],
   "source": [
    "import time\n",
    "elefanti=1\n",
    "print(elefanti,\"elefante\")\n",
    "time.sleep(2)\n",
    "print(\"si dondolava\")\n",
    "time.sleep(1.8)\n",
    "print(\"sopra il filo di una ragnatela\")\n",
    "time.sleep(3.3)\n",
    "print(\"trovando la cosa molto interessante\")\n",
    "time.sleep(3.3)\n",
    "print(\"andò a chiamare un altro elefante\")\n",
    "while True:\n",
    "    elefanti+=1\n",
    "    time.sleep(3.5)\n",
    "    print(elefanti,\"elefanti\")\n",
    "    time.sleep(2)\n",
    "    print(\"si dondolavano\")\n",
    "    time.sleep(1.8)\n",
    "    print(\"sopra il filo di una ragnatela\")\n",
    "    time.sleep(3.3)\n",
    "    print(\"trovando la cosa molto interessante\")\n",
    "    time.sleep(3.3)\n",
    "    print(\"andarono a chiamare un altro elefante\")"
   ]
  },
  {
   "cell_type": "code",
   "execution_count": 7,
   "id": "64936b7b",
   "metadata": {},
   "outputs": [
    {
     "name": "stdout",
     "output_type": "stream",
     "text": [
      "inserisci una frase senza spazi/accenti per scoprire se è palindroma: itopinonavevanonipoti\n",
      "questa frase è palindroma\n"
     ]
    }
   ],
   "source": [
    "frase=str(input(\"inserisci una frase senza spazi/accenti per scoprire se è palindroma: \"))\n",
    "\n",
    "if frase==frase[::-1]:\n",
    "    print(\"questa frase è palindroma\")\n",
    "else:\n",
    "    print(\"questa frase non è palindroma\")"
   ]
  }
 ],
 "metadata": {
  "kernelspec": {
   "display_name": "Python 3 (ipykernel)",
   "language": "python",
   "name": "python3"
  },
  "language_info": {
   "codemirror_mode": {
    "name": "ipython",
    "version": 3
   },
   "file_extension": ".py",
   "mimetype": "text/x-python",
   "name": "python",
   "nbconvert_exporter": "python",
   "pygments_lexer": "ipython3",
   "version": "3.11.4"
  }
 },
 "nbformat": 4,
 "nbformat_minor": 5
}
